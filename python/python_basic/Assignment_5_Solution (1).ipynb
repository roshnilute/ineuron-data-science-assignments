{
 "cells": [
  {
   "cell_type": "markdown",
   "id": "de1341c7-6845-4acb-bc64-3617dfdbc77b",
   "metadata": {},
   "source": [
    "# Python basic assignment 5 solution"
   ]
  },
  {
   "cell_type": "markdown",
   "id": "71e1a9a3-6e38-4617-b376-d9dd9a0608b8",
   "metadata": {},
   "source": [
    "# Submitted by  : Roshni Lute"
   ]
  },
  {
   "cell_type": "markdown",
   "id": "b3fad323",
   "metadata": {},
   "source": [
    "#### Question 1. What does an empty dictionary's code look like?"
   ]
  },
  {
   "cell_type": "markdown",
   "id": "cc4a95d3",
   "metadata": {},
   "source": [
    "#### Answer 1 \n",
    "\n",
    "An empty dictionary is often represented by two empty curly brackets { }."
   ]
  },
  {
   "cell_type": "code",
   "execution_count": 2,
   "id": "23b3cee9",
   "metadata": {
    "ExecuteTime": {
     "end_time": "2023-05-25T18:09:23.041593Z",
     "start_time": "2023-05-25T18:09:23.021582Z"
    }
   },
   "outputs": [
    {
     "name": "stdout",
     "output_type": "stream",
     "text": [
      "Length :  0\n",
      "<class 'dict'>\n"
     ]
    }
   ],
   "source": [
    "new = {}\n",
    "print(\"Length : \", len(new))\n",
    "print(type(new))"
   ]
  },
  {
   "cell_type": "markdown",
   "id": "66d4a1cc",
   "metadata": {},
   "source": [
    "#### Question 2. What is the value of a dictionary value with the key &#39;foo&#39; and the value 42 ?"
   ]
  },
  {
   "cell_type": "markdown",
   "id": "344eae1a",
   "metadata": {},
   "source": [
    "#### Answer 2 \n",
    "\n",
    "The value of \"foo\" will depend on value given to it."
   ]
  },
  {
   "cell_type": "code",
   "execution_count": 3,
   "id": "c8846c57",
   "metadata": {
    "ExecuteTime": {
     "end_time": "2023-05-25T18:10:49.076655Z",
     "start_time": "2023-05-25T18:10:49.054626Z"
    }
   },
   "outputs": [
    {
     "data": {
      "text/plain": [
       "42"
      ]
     },
     "execution_count": 3,
     "metadata": {},
     "output_type": "execute_result"
    }
   ],
   "source": [
    "# The value will be 42\n",
    "my_dict = {'foo': 42}\n",
    "my_dict['foo']"
   ]
  },
  {
   "cell_type": "markdown",
   "id": "0f998a40",
   "metadata": {},
   "source": [
    "#### Question 3. What is the most significant distinction between a dictionary and a list?"
   ]
  },
  {
   "cell_type": "markdown",
   "id": "5d17c7cd",
   "metadata": {},
   "source": [
    "#### Answer 3\n",
    "<br><br>\n",
    "* List - Store different values in form of independent datatype, items in list are Ordered, represented by []<br>\n",
    "* Dictionary - Store different values in the form of Key & Value, iten in dictionary are unordered, represented by {}"
   ]
  },
  {
   "cell_type": "code",
   "execution_count": 4,
   "id": "fe765571",
   "metadata": {
    "ExecuteTime": {
     "end_time": "2023-05-25T18:30:08.457032Z",
     "start_time": "2023-05-25T18:30:08.444035Z"
    }
   },
   "outputs": [
    {
     "name": "stdout",
     "output_type": "stream",
     "text": [
      "{'k1': 123, 'k2': (2+3j)}\n",
      "[12, 23, 45]\n"
     ]
    }
   ],
   "source": [
    "# The dictionary is created using {} or dict()\n",
    "dict_new = {'k1': 123, 'k2': 2+3j}\n",
    "print(dict_new)\n",
    "# The list is created using [] or list()\n",
    "list_new = [12,23,45]\n",
    "print(list_new)"
   ]
  },
  {
   "cell_type": "markdown",
   "id": "3944b44f",
   "metadata": {},
   "source": [
    "#### Question 4. What happens if you try to access spam['foo'] if spam is {'bar': 100}?"
   ]
  },
  {
   "cell_type": "markdown",
   "id": "bfe1c294",
   "metadata": {},
   "source": [
    "#### Answer 4\n",
    "\n",
    " It will through a Error in the console.\n",
    " \n",
    "`KeyError: 'foo'`"
   ]
  },
  {
   "cell_type": "code",
   "execution_count": 5,
   "id": "a91bcb83",
   "metadata": {
    "ExecuteTime": {
     "end_time": "2023-05-25T18:33:26.380847Z",
     "start_time": "2023-05-25T18:33:26.340818Z"
    }
   },
   "outputs": [
    {
     "ename": "KeyError",
     "evalue": "'foo'",
     "output_type": "error",
     "traceback": [
      "\u001b[0;31m---------------------------------------------------------------------------\u001b[0m",
      "\u001b[0;31mKeyError\u001b[0m                                  Traceback (most recent call last)",
      "Cell \u001b[0;32mIn [5], line 2\u001b[0m\n\u001b[1;32m      1\u001b[0m spam \u001b[38;5;241m=\u001b[39m {\u001b[38;5;124m'\u001b[39m\u001b[38;5;124mbar\u001b[39m\u001b[38;5;124m'\u001b[39m: \u001b[38;5;241m100\u001b[39m}\n\u001b[0;32m----> 2\u001b[0m \u001b[43mspam\u001b[49m\u001b[43m \u001b[49m\u001b[43m[\u001b[49m\u001b[38;5;124;43m'\u001b[39;49m\u001b[38;5;124;43mfoo\u001b[39;49m\u001b[38;5;124;43m'\u001b[39;49m\u001b[43m]\u001b[49m\n",
      "\u001b[0;31mKeyError\u001b[0m: 'foo'"
     ]
    }
   ],
   "source": [
    "spam = {'bar': 100}\n",
    "spam ['foo']"
   ]
  },
  {
   "cell_type": "markdown",
   "id": "1db27209",
   "metadata": {},
   "source": [
    "#### Question 5. If a dictionary is stored in spam, what is the difference between the expressions 'cat' in spam and 'cat' in spam.keys()?"
   ]
  },
  {
   "cell_type": "markdown",
   "id": "9f5791af",
   "metadata": {},
   "source": [
    "#### Answer 5 \n",
    "\n",
    "There will be no difference.\n",
    "\n",
    "* 'cat' in spam: This expression checks whether there is a 'cat' key present in the dictionary\n",
    "* 'cat' in spam.keys(): This will checks whether there is any key 'cat' in spam."
   ]
  },
  {
   "cell_type": "code",
   "execution_count": 6,
   "id": "4631082a",
   "metadata": {
    "ExecuteTime": {
     "end_time": "2023-05-25T18:33:08.060757Z",
     "start_time": "2023-05-25T18:33:08.043760Z"
    }
   },
   "outputs": [
    {
     "name": "stdout",
     "output_type": "stream",
     "text": [
      "True True\n"
     ]
    }
   ],
   "source": [
    "dict_new1 = {'1': 123, '2': 2+3j}\n",
    "a = '1' in dict_new1\n",
    "b = '1' in dict_new1.keys()\n",
    "print(a, b)"
   ]
  },
  {
   "cell_type": "markdown",
   "id": "faf69b85",
   "metadata": {},
   "source": [
    "#### Question 6.  If a dictionary is stored in spam, what is the difference between the expressions 'cat' in spam and 'cat' in spam.values()?"
   ]
  },
  {
   "cell_type": "markdown",
   "id": "93330a07",
   "metadata": {},
   "source": [
    "#### Answer 6\n",
    "\n",
    "* 'cat' in spam: This expression checks whether there is any 'cat' KEY in the dictionary\n",
    "* 'cat' in spam.values(): This will checks whether there is a value 'cat' in spam."
   ]
  },
  {
   "cell_type": "markdown",
   "id": "86ad62f5",
   "metadata": {},
   "source": [
    "#### Question 7. What is a shortcut for the following code?"
   ]
  },
  {
   "cell_type": "code",
   "execution_count": 7,
   "id": "3cad7e8c",
   "metadata": {
    "ExecuteTime": {
     "end_time": "2023-05-25T18:33:38.427401Z",
     "start_time": "2023-05-25T18:33:38.421374Z"
    }
   },
   "outputs": [],
   "source": [
    "if 'color' not in spam:\n",
    "    spam['color'] = 'black'"
   ]
  },
  {
   "cell_type": "markdown",
   "id": "f4d0f45b",
   "metadata": {},
   "source": [
    "#### Answer 7 \n",
    "\n",
    "We can use setdefault keyword in the command. The `setdefault()` method returns the value of a key (if the key is in dictionary). If not, it inserts key with a value to the dictionary."
   ]
  },
  {
   "cell_type": "code",
   "execution_count": 8,
   "id": "78389b6f",
   "metadata": {
    "ExecuteTime": {
     "end_time": "2023-05-25T18:33:32.275203Z",
     "start_time": "2023-05-25T18:33:32.260209Z"
    }
   },
   "outputs": [
    {
     "name": "stdout",
     "output_type": "stream",
     "text": [
      "{'bar': 100, 'color': 'black'}\n",
      "{'bar': 100, 'color': 'black'}\n"
     ]
    }
   ],
   "source": [
    "print(spam)\n",
    "# shortcut code \n",
    "spam.setdefault('color', 'black')\n",
    "print(spam)"
   ]
  },
  {
   "cell_type": "markdown",
   "id": "1f59330e",
   "metadata": {},
   "source": [
    "#### Question 8. How do you \"pretty print\" dictionary values using which module and function?"
   ]
  },
  {
   "cell_type": "markdown",
   "id": "639c6d6c",
   "metadata": {},
   "source": [
    "#### Answer 8\n",
    "\n",
    "We use pprint() or Pretty Print that can use to print data structures in a readable, pretty way."
   ]
  },
  {
   "cell_type": "code",
   "execution_count": 35,
   "id": "2ad1b087",
   "metadata": {
    "ExecuteTime": {
     "end_time": "2023-05-25T18:38:41.470771Z",
     "start_time": "2023-05-25T18:38:41.445754Z"
    }
   },
   "outputs": [
    {
     "name": "stdout",
     "output_type": "stream",
     "text": [
      "Printing using print() function\n",
      " [{'Name': 'John', 'Age': '23', 'Residence': {'Country': 'USA', 'City': 'New York'}}, {'Name': 'Jose', 'Age': '44', 'Residence': {'Country': 'Spain', 'City': 'Madrid'}}, {'Name': 'Anne', 'Age': '29', 'Residence': {'Country': 'UK', 'City': 'England'}}, {'Name': 'Lee', 'Age': '35', 'Residence': {'Country': 'Japan', 'City': 'Osaka'}}]\n",
      "------------------------------------------------------------------------------------------------------------------------------------------------------------------------------------------------------------------\n",
      "Printing using pprint() funciton\n",
      "[{'Age': '23',\n",
      "  'Name': 'John',\n",
      "  'Residence': {'City': 'New York', 'Country': 'USA'}},\n",
      " {'Age': '44',\n",
      "  'Name': 'Jose',\n",
      "  'Residence': {'City': 'Madrid', 'Country': 'Spain'}},\n",
      " {'Age': '29',\n",
      "  'Name': 'Anne',\n",
      "  'Residence': {'City': 'England', 'Country': 'UK'}},\n",
      " {'Age': '35',\n",
      "  'Name': 'Lee',\n",
      "  'Residence': {'City': 'Osaka', 'Country': 'Japan'}}]\n",
      "------------------------------------------------------------------------------------------------------------------------------------------------------------------------------------------------------------------\n",
      "Printing using json dumps() method\n",
      " [\n",
      "    {\n",
      "        \"Name\": \"John\",\n",
      "        \"Age\": \"23\",\n",
      "        \"Residence\": {\n",
      "            \"Country\": \"USA\",\n",
      "            \"City\": \"New York\"\n",
      "        }\n",
      "    },\n",
      "    {\n",
      "        \"Name\": \"Jose\",\n",
      "        \"Age\": \"44\",\n",
      "        \"Residence\": {\n",
      "            \"Country\": \"Spain\",\n",
      "            \"City\": \"Madrid\"\n",
      "        }\n",
      "    },\n",
      "    {\n",
      "        \"Name\": \"Anne\",\n",
      "        \"Age\": \"29\",\n",
      "        \"Residence\": {\n",
      "            \"Country\": \"UK\",\n",
      "            \"City\": \"England\"\n",
      "        }\n",
      "    },\n",
      "    {\n",
      "        \"Name\": \"Lee\",\n",
      "        \"Age\": \"35\",\n",
      "        \"Residence\": {\n",
      "            \"Country\": \"Japan\",\n",
      "            \"City\": \"Osaka\"\n",
      "        }\n",
      "    }\n",
      "]\n",
      "------------------------------------------------------------------------------------------------------------------------------------------------------------------------------------------------------------------\n",
      "Printing using yaml dump() method\n",
      " - Age: '23'\n",
      "  Name: John\n",
      "  Residence:\n",
      "    City: New York\n",
      "    Country: USA\n",
      "- Age: '44'\n",
      "  Name: Jose\n",
      "  Residence:\n",
      "    City: Madrid\n",
      "    Country: Spain\n",
      "- Age: '29'\n",
      "  Name: Anne\n",
      "  Residence:\n",
      "    City: England\n",
      "    Country: UK\n",
      "- Age: '35'\n",
      "  Name: Lee\n",
      "  Residence:\n",
      "    City: Osaka\n",
      "    Country: Japan\n",
      "\n"
     ]
    }
   ],
   "source": [
    "new_dict = [\n",
    "  {'Name': 'John', 'Age': '23', 'Residence': {'Country':'USA', 'City': 'New York'}},\n",
    "  {'Name': 'Jose', 'Age': '44', 'Residence': {'Country':'Spain', 'City': 'Madrid'}},\n",
    "  {'Name': 'Anne', 'Age': '29', 'Residence': {'Country':'UK', 'City': 'England'}},\n",
    "  {'Name': 'Lee', 'Age': '35', 'Residence': {'Country':'Japan', 'City': 'Osaka'}}\n",
    "]\n",
    "\n",
    "print('Printing using print() function\\n',new_dict)\n",
    "print('-'*70*3)\n",
    "import pprint\n",
    "print('Printing using pprint() funciton')\n",
    "pprint.pprint(new_dict)\n",
    "print('-'*70*3)\n",
    "import json\n",
    "dump = json.dumps(new_dict, indent=4)\n",
    "print('Printing using json dumps() method\\n', dump)\n",
    "print('-'*70*3)\n",
    "import yaml\n",
    "dump = yaml.dump(new_dict)\n",
    "print('Printing using yaml dump() method\\n', dump)"
   ]
  },
  {
   "cell_type": "code",
   "execution_count": null,
   "id": "6aff3664",
   "metadata": {},
   "outputs": [],
   "source": []
  }
 ],
 "metadata": {
  "kernelspec": {
   "display_name": "Python 3 (ipykernel)",
   "language": "python",
   "name": "python3"
  },
  "language_info": {
   "codemirror_mode": {
    "name": "ipython",
    "version": 3
   },
   "file_extension": ".py",
   "mimetype": "text/x-python",
   "name": "python",
   "nbconvert_exporter": "python",
   "pygments_lexer": "ipython3",
   "version": "3.10.6"
  },
  "varInspector": {
   "cols": {
    "lenName": 16,
    "lenType": 16,
    "lenVar": 40
   },
   "kernels_config": {
    "python": {
     "delete_cmd_postfix": "",
     "delete_cmd_prefix": "del ",
     "library": "var_list.py",
     "varRefreshCmd": "print(var_dic_list())"
    },
    "r": {
     "delete_cmd_postfix": ") ",
     "delete_cmd_prefix": "rm(",
     "library": "var_list.r",
     "varRefreshCmd": "cat(var_dic_list()) "
    }
   },
   "types_to_exclude": [
    "module",
    "function",
    "builtin_function_or_method",
    "instance",
    "_Feature"
   ],
   "window_display": false
  }
 },
 "nbformat": 4,
 "nbformat_minor": 5
}
