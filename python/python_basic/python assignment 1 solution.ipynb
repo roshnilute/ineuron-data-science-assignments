{
 "cells": [
  {
   "cell_type": "markdown",
   "id": "eb6e0365-933a-4443-a61c-cc37e9935be3",
   "metadata": {},
   "source": [
    "\n",
    "PYTHON BASIC ASSIGNMENT 1 SOLUTION\n",
    "\n"
   ]
  },
  {
   "cell_type": "code",
   "execution_count": null,
   "id": "da9d3dc4-8d63-4424-824f-356416fae50b",
   "metadata": {},
   "outputs": [],
   "source": [
    "SUBMITTED BY ROSHNI LUTE\n"
   ]
  },
  {
   "cell_type": "code",
   "execution_count": null,
   "id": "eb71998f-7e74-4571-85a5-e051cbf7b07d",
   "metadata": {},
   "outputs": [],
   "source": [
    "1. In the below elements which of them are values or an expression? eg:- values can be\n",
    "integer or string and expressions will be mathematical operators.\n",
    "*\n",
    "&#39;hello&#39;\n",
    "-87.8\n",
    "-\n",
    "/\n",
    "+\n",
    "6\n",
    "\n",
    "SOLUTION:\n",
    "There are a 4 Operators and 3 Expressions,\n",
    "\n",
    "They are:\n",
    "\n",
    "Operators: *,-,/,+.\n",
    "\n",
    "Expressions: 'hello', 87.8, 6\n"
   ]
  },
  {
   "cell_type": "code",
   "execution_count": null,
   "id": "c81114e7-8ba5-4417-9ac1-a22b8b5d6c16",
   "metadata": {},
   "outputs": [],
   "source": [
    " 2. What is the difference between string and variable?\n",
    " \n",
    " SOLUTION: A String is a group of characters or a single character usually enclosed in different types of quotes such as Double quotes `\" \"` or single quotes `' '`.\n",
    "Even triple quotes can be used in Python but generally used to represent multiline strings and docstrings.\n",
    "\n",
    "A Variable is an imaginary container used to store of information, and a String is a type of information you would store in a Variable. A variable is created the moment you first assign a value to it. Example: x = 10, y = \"Ram\". Here x and y are variables.\n",
    "\n",
    "\n",
    " \n",
    " "
   ]
  },
  {
   "cell_type": "code",
   "execution_count": null,
   "id": "2efebb54-34dd-49ab-9031-499fd44d3ff5",
   "metadata": {},
   "outputs": [],
   "source": [
    "3.Describe three different data types.\n",
    "SOLUTION: Three Different types of data types are int,float, complex .\n",
    "\n",
    "int data type: We can use int data type to represent whole numbers (integral values) Example: int_num=10\n",
    "\n",
    "float data type: We can use float data type to represent floating point values (decimal values) Example: flo_num=1.5e5\n",
    "\n",
    "complex data type: Complex number is represented by complex class. It is specified as (real part) + (imaginary part)j. Example: com_num=11+5.5j\n",
    "\n",
    "\n",
    "# Example for int data type\n",
    "\n",
    "n=10\n",
    "print(n,type(n))\n",
    "\n",
    "# Example for float data type\n",
    "\n",
    "x=1.5e4\n",
    "print(x, type(x))\n",
    "\n",
    "# Example for Complex data type\n",
    "\n",
    "z=11+5.5j\n",
    "print(z, type(z))\n",
    "\n"
   ]
  },
  {
   "cell_type": "code",
   "execution_count": null,
   "id": "31a9d511-312a-41f7-b1a2-775c575a284f",
   "metadata": {},
   "outputs": [],
   "source": [
    "What is an expression made up of? What do all expressions do?\n",
    "Ans An expression is a combination of values, variables, operators, and calls to functions. Expressions need to be evaluated. If we ask Python to print an expression, the interpreter evaluates the expression and displays the result. An expression is evaluated as per the precedence of its operators. So that if there is more than one operator in an expression, their precedence decides which operation will be performed first.\n",
    "\n"
   ]
  },
  {
   "cell_type": "code",
   "execution_count": 2,
   "id": "189f7d98-7e7e-4100-b951-828684bd9a98",
   "metadata": {},
   "outputs": [
    {
     "data": {
      "text/plain": [
       "20"
      ]
     },
     "execution_count": 2,
     "metadata": {},
     "output_type": "execute_result"
    }
   ],
   "source": [
    "#Example: \n",
    "5*2+10 "
   ]
  },
  {
   "cell_type": "code",
   "execution_count": null,
   "id": "ddfbd567-41e2-42b9-afb4-6b50a5c8e29e",
   "metadata": {},
   "outputs": [],
   "source": [
    "5. This assignment statements, like spam = 10. What is the difference between an expression and a statement?\n",
    "Ans An expression is a combination of values, variables, and operators.When we type an expression at the prompt, the interpreter evaluates it, which means that it finds the value of the expression.An expression is evaluated as per the precedence of its operators. So that if there is more than one operator in an expression, their precedence decides which operation will be performed first.\n",
    "\n",
    "eg:- 5*2+10 is an example of a expression\n",
    "\n",
    "A statement is a unit of code that has an effect, like creating a variable or displaying a value.When we type a statement, the interpreter executes it, which means that it does whatever the statement says. In general, statements don’t have values. A statement is an instruction that a Python interpreter can execute. There are mainly four types of statements in Python, Print statements, Assignment statements, Conditional statements and Looping statements.\n",
    "\n",
    "eg: courseName = 'After completion of this course!! I am going to be a data scientist', spam = 10"
   ]
  },
  {
   "cell_type": "code",
   "execution_count": 3,
   "id": "5bb04eeb-3174-480d-8979-ffce7d4c6578",
   "metadata": {},
   "outputs": [
    {
     "name": "stdout",
     "output_type": "stream",
     "text": [
      "iNeuron\n",
      "After completion of this course!! I am going to be a data scientist', spam = 10\n"
     ]
    }
   ],
   "source": [
    "#Example:\n",
    "5*2+10 # Is a Expression\n",
    "courseName = \"After completion of this course!! I am going to be a data scientist', spam = 10\" # Is a Statement\n",
    "print(\"iNeuron\") # Is a Expression Statement\n",
    "print(courseName)"
   ]
  },
  {
   "cell_type": "code",
   "execution_count": null,
   "id": "49765dcc-7dfb-4eb7-99a6-3158739b115a",
   "metadata": {},
   "outputs": [],
   "source": [
    "6. After running the following code, what does the variable bacon contain?\n",
    "bacon = 22 bacon + 1\n",
    "\n",
    "Ans The variable bacon after running the code should contain 22"
   ]
  },
  {
   "cell_type": "code",
   "execution_count": 4,
   "id": "01c353da-54f8-4f1c-8c28-8142501b06a9",
   "metadata": {},
   "outputs": [
    {
     "name": "stdout",
     "output_type": "stream",
     "text": [
      "22\n"
     ]
    }
   ],
   "source": [
    "# Demonstration\n",
    "\n",
    "bacon = 22\n",
    "bacon + 1\n",
    "\n",
    "print(bacon)"
   ]
  },
  {
   "cell_type": "code",
   "execution_count": null,
   "id": "f917c6b9-7a76-437b-a41d-f41a6af0c0ed",
   "metadata": {},
   "outputs": [],
   "source": [
    "7. What should the values of the following two terms be?\n",
    "'spam' + 'spamspam'\n",
    "\n",
    "'spam' * 3\n",
    "\n",
    "Ans Values of both the term should be \"spamspamspam\" 1st expression is STRING CONCATENATION and the second expression is STRING MULTIPLICATION"
   ]
  },
  {
   "cell_type": "code",
   "execution_count": 5,
   "id": "c2ca4a8b-d867-4206-88f4-db9847fb6444",
   "metadata": {},
   "outputs": [
    {
     "name": "stdout",
     "output_type": "stream",
     "text": [
      "spamspamspam\n",
      "spamspamspam\n"
     ]
    }
   ],
   "source": [
    "# Demonstration\n",
    "\n",
    "a='spam' + 'spamspam'\n",
    "print(a)\n",
    "b='spam' * 3\n",
    "print(b)"
   ]
  },
  {
   "cell_type": "code",
   "execution_count": null,
   "id": "cbd5e9b0-d83e-4741-962e-a5d1da7a3f5b",
   "metadata": {},
   "outputs": [],
   "source": [
    " Why is eggs a valid variable name while 100 is invalid?\n",
    "Ans: According to python rules,Variable names cannot begin with a number.\n",
    "\n",
    "The python rules for naming a variable are :-\n",
    "\n",
    "Variable name must start with a letter or the underscore character.\n",
    "Variable name cannot start with a number.\n",
    "Variable name can only contain alpha-numeric characters and underscores (A-z, 0-9, & _ ).\n",
    "Variable names are case-sensitive (name, RAM and ram are three different variables).\n",
    "The reserved words(keywords) cannot be used naming the variable."
   ]
  },
  {
   "cell_type": "code",
   "execution_count": 7,
   "id": "58972d82-8a85-4fc5-bd05-57d57517766d",
   "metadata": {},
   "outputs": [
    {
     "name": "stdout",
     "output_type": "stream",
     "text": [
      "Mihir\n",
      "100\n"
     ]
    }
   ],
   "source": [
    "egg='Mihir' # Valid variable Initilization\n",
    "100=='hello' # Invalid Variable Initilization\n",
    "\n",
    "print(egg) #prints the value of egg ie Ineuron\n",
    "print(100) # Raises a Syntax Error "
   ]
  },
  {
   "cell_type": "code",
   "execution_count": null,
   "id": "75fb16b9-04b0-443f-8c8f-ad3c74d754f8",
   "metadata": {},
   "outputs": [],
   "source": [
    "What three functions can be used to get the integer, floating-point number, or string version of a value?\n",
    "Ans: The int(),float(),and str() functions will evaluate to the integer,floating-point number,string version of the value passed to them."
   ]
  },
  {
   "cell_type": "code",
   "execution_count": null,
   "id": "c16de4d8-1cc2-4442-9033-6b4af6ff3caf",
   "metadata": {},
   "outputs": [],
   "source": [
    "# Examples:\n",
    "print('int(10.0) -> ',int(10.0)) # int() function converts given input to int\n",
    "print('float(10) -> ',float(10)) # float() function converts given input to float\n",
    "print('str(10) -> ',str(10)) # str() function converts given input to string"
   ]
  },
  {
   "cell_type": "code",
   "execution_count": null,
   "id": "477b614a-ec28-484e-90d6-abb972ff5f9e",
   "metadata": {},
   "outputs": [],
   "source": [
    "Why does this expression cause an error? How can you fix it?\n",
    "'I have eaten ' + 99 + ' burritos.'\n",
    "\n",
    "ANS This error is caused because addition of String and integer (99) is not possible.\n",
    "\n",
    "To fix this we must typecast integer into string by doing so all the string elements can be added"
   ]
  },
  {
   "cell_type": "code",
   "execution_count": 8,
   "id": "32f04375-1955-4d94-ae18-7e58b44247ed",
   "metadata": {},
   "outputs": [
    {
     "name": "stdout",
     "output_type": "stream",
     "text": [
      "I have eaten 99 burritos\n"
     ]
    }
   ],
   "source": [
    "print('I have eaten '+str(99)+' burritos')"
   ]
  },
  {
   "cell_type": "code",
   "execution_count": null,
   "id": "d5ed34a7-8390-42d1-9eab-c47cea9d8ec1",
   "metadata": {},
   "outputs": [],
   "source": []
  }
 ],
 "metadata": {
  "kernelspec": {
   "display_name": "Python 3 (ipykernel)",
   "language": "python",
   "name": "python3"
  },
  "language_info": {
   "codemirror_mode": {
    "name": "ipython",
    "version": 3
   },
   "file_extension": ".py",
   "mimetype": "text/x-python",
   "name": "python",
   "nbconvert_exporter": "python",
   "pygments_lexer": "ipython3",
   "version": "3.10.6"
  }
 },
 "nbformat": 4,
 "nbformat_minor": 5
}
