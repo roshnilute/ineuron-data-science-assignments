{
 "cells": [
  {
   "cell_type": "markdown",
   "metadata": {},
   "source": [
    "# Python Basic Assignment 6 Solution"
   ]
  },
  {
   "cell_type": "markdown",
   "metadata": {},
   "source": [
    "# submitted by : Roshni Lute"
   ]
  },
  {
   "cell_type": "markdown",
   "metadata": {},
   "source": [
    "### **Q.1. What are keywords in python? Using the keyword library, print all the python keywords.**\n",
    "\n",
    "**Ans** Keywords in Python are reserved words that cannot be used as ordinary identifiers. They are used to define the syntax and structure of the Python language.\n"
   ]
  },
  {
   "cell_type": "code",
   "execution_count": 9,
   "metadata": {},
   "outputs": [
    {
     "name": "stdout",
     "output_type": "stream",
     "text": [
      "['False', 'None', 'True', 'and', 'as', 'assert', 'async', 'await', 'break', 'class', 'continue', 'def', 'del', 'elif', 'else', 'except', 'finally', 'for', 'from', 'global', 'if', 'import', 'in', 'is', 'lambda', 'nonlocal', 'not', 'or', 'pass', 'raise', 'return', 'try', 'while', 'with', 'yield']\n"
     ]
    }
   ],
   "source": [
    "import keyword\n",
    "\n",
    "print(keyword.kwlist)"
   ]
  },
  {
   "cell_type": "markdown",
   "metadata": {},
   "source": [
    "### Q.2. What are the rules to create variables in python?\n",
    "\n",
    "Ans** A variable name must start with a letter or the underscore character\n",
    "A variable name cannot start with a number\n",
    "A variable name can only contain alpha-numeric characters and underscores (A-z, 0-9, and _ )\n",
    "Variable names are case-sensitive (age, Age and AGE are three different variables)\n"
   ]
  },
  {
   "cell_type": "markdown",
   "metadata": {},
   "source": [
    "### Q.3. What are the standards and conventions followed for the nomenclature of variables in python to improve code readability and maintainability?\n",
    "\n",
    "**Ans** \n",
    "Meaningful and understandable variables name helps anyone to understand the reason of using it.\n",
    "Local variables should be named using camel case lettering starting with small letter (e.g. localData) whereas Global variables names should start with a capital letter (e.g. GlobalData). Constant names should be formed using capital letters only (e.g. CONSDATA).\n",
    "It is better to avoid the use of digits in variable names.\n",
    "The names of the function should be written in camel case starting with small letters.\n",
    "The name of the function must describe the reason of using the function clearly and briefly."
   ]
  },
  {
   "cell_type": "markdown",
   "metadata": {},
   "source": [
    "###  Q.4. What will happen if a keyword is used as a variable name?\n",
    "\n",
    "**Ans** If Keyword is used as a variable name then python interpreter will throws an error \n",
    "\n",
    "**SyntaxError: invalid syntax**\n"
   ]
  },
  {
   "cell_type": "code",
   "execution_count": 10,
   "metadata": {},
   "outputs": [
    {
     "ename": "SyntaxError",
     "evalue": "invalid syntax (<ipython-input-10-b070801e4075>, line 3)",
     "output_type": "error",
     "traceback": [
      "\u001b[1;36m  File \u001b[1;32m\"<ipython-input-10-b070801e4075>\"\u001b[1;36m, line \u001b[1;32m3\u001b[0m\n\u001b[1;33m    class = 10\u001b[0m\n\u001b[1;37m          ^\u001b[0m\n\u001b[1;31mSyntaxError\u001b[0m\u001b[1;31m:\u001b[0m invalid syntax\n"
     ]
    }
   ],
   "source": [
    "#Example\n",
    "\n",
    "class = 10\n",
    "print(class)"
   ]
  },
  {
   "cell_type": "markdown",
   "metadata": {},
   "source": [
    "###  Q.5. For what purpose def keyword is used?\n",
    "\n",
    "**Ans** def Keyword is used to define the user defined functions\n"
   ]
  },
  {
   "cell_type": "code",
   "execution_count": 1,
   "metadata": {},
   "outputs": [
    {
     "name": "stdout",
     "output_type": "stream",
     "text": [
      "15\n"
     ]
    }
   ],
   "source": [
    "# Example\n",
    "\n",
    "def add(a,b):\n",
    "    return a+b\n",
    "\n",
    "print(add(5,10))"
   ]
  },
  {
   "cell_type": "markdown",
   "metadata": {},
   "source": [
    "###  Q.6. What is the operation of this special character ‘\\’?\n",
    "\n",
    "**Ans** Operation of ` '\\' ` this special character is to extend a statement over multiple lines."
   ]
  },
  {
   "cell_type": "code",
   "execution_count": 17,
   "metadata": {},
   "outputs": [
    {
     "name": "stdout",
     "output_type": "stream",
     "text": [
      "15\n"
     ]
    }
   ],
   "source": [
    "#Example\n",
    "\n",
    "s = 1 + 2 + 3 + \\\n",
    "    4 + 5\n",
    "print(s)"
   ]
  },
  {
   "cell_type": "markdown",
   "metadata": {},
   "source": [
    "### Q.7. Give an example of the following conditions:\n",
    "(i) Homogeneous list \n",
    "(ii) Heterogeneous set\n",
    "(iii) Homogeneous tuple\n"
   ]
  },
  {
   "cell_type": "code",
   "execution_count": 18,
   "metadata": {},
   "outputs": [
    {
     "name": "stdout",
     "output_type": "stream",
     "text": [
      "['France', 'India', 'Germany', 'Netherlands', 'Ghana']\n"
     ]
    }
   ],
   "source": [
    "# Homogenous List\n",
    "countries = [\"France\", \"India\", \"Germany\", \"Netherlands\", \"Ghana\"]\n",
    "print(countries)"
   ]
  },
  {
   "cell_type": "code",
   "execution_count": 19,
   "metadata": {},
   "outputs": [
    {
     "name": "stdout",
     "output_type": "stream",
     "text": [
      "[1, 'Ram', 3.14, [5, 6, 7]]\n"
     ]
    }
   ],
   "source": [
    "# Heterogenous Set\n",
    "mix= [1, \"Ram\", 3.14, [5, 6, 7]]\n",
    "print(mix)"
   ]
  },
  {
   "cell_type": "code",
   "execution_count": 22,
   "metadata": {},
   "outputs": [
    {
     "name": "stdout",
     "output_type": "stream",
     "text": [
      "(1, 2, 3, 4, 5)\n"
     ]
    }
   ],
   "source": [
    "# Homogeneous tuple\n",
    "my_tuple = (1, 2, 3, 4, 5)\n",
    "print(my_tuple)"
   ]
  },
  {
   "cell_type": "markdown",
   "metadata": {},
   "source": [
    "###  Q.8. Explain the mutable and immutable data types with proper explanation & examples.\n",
    "\n",
    "**Ans** Anything is said to be mutable when anything can be modified or changed. The term \"mutable\" in Python refers to an object's capacity to modify its values. These are frequently the things that hold a data collection\n",
    "Lists\n",
    "Dictionaries\n",
    "Sets\n",
    "User-Defined Classes\n",
    "\n",
    "Immutable refers to a state in which no change can occur over time. A Python object is referred to as immutable if we cannot change its value over time. The value of these Python objects is fixed once they are made.\n",
    "Numbers (Integer, Float, Complex, Decimal, Rational & Booleans)\n",
    "Tuples\n",
    "Strings\n",
    "Frozen Sets\n"
   ]
  },
  {
   "cell_type": "code",
   "execution_count": 27,
   "metadata": {},
   "outputs": [
    {
     "name": "stdout",
     "output_type": "stream",
     "text": [
      "---------- List ----------\n",
      "The original list:  ['Python', 'Java', 23, False, 5.3]\n",
      "The modified list:  ['Python', 'Java', 'changed', False, 5.3]\n",
      "---------- Dictionary ----------\n",
      "The original dictionary:  {1: 'a', 2: 'b', 3: 'c'}\n",
      "The modified dictionary:  {1: 'a', 2: 'changed', 3: 'c'}\n"
     ]
    }
   ],
   "source": [
    "# Mutable Example\n",
    "\n",
    "# 1 List\n",
    "print('-'*10+\" List \"+'-'*10)\n",
    "# Creating a list  \n",
    "list1 = ['Python', 'Java', 23, False, 5.3]  \n",
    "print(\"The original list: \", list1)  \n",
    "  \n",
    "# Changing the value at index 2 of the list  \n",
    "list1[2]='changed'  \n",
    "print(\"The modified list: \", list1)  \n",
    "\n",
    "print('-'*10+\" Dictionary \"+'-'*10)\n",
    "#2 Dictionary\n",
    "# Creating a dictionary  \n",
    "dict_ = {1: \"a\", 2: \"b\", 3: \"c\"}  \n",
    "print(\"The original dictionary: \", dict_)  \n",
    "  \n",
    "# Changing the value of one of the keys of the dictionary  \n",
    "dict_[2]= 'changed'  \n",
    "print(\"The modified dictionary: \", dict_)  \n"
   ]
  },
  {
   "cell_type": "code",
   "execution_count": 28,
   "metadata": {},
   "outputs": [
    {
     "name": "stdout",
     "output_type": "stream",
     "text": [
      "---------- INT ----------\n",
      "The memory address of int before updating:  140715382221344\n",
      "The memory address of int after updating:  140715382221664\n",
      "---------- Float ----------\n",
      "The memory address of float before updating:  2343626241072\n",
      "The memory address of float after updating:  2343626240848\n"
     ]
    }
   ],
   "source": [
    "# Immutable Example\n",
    "# INT\n",
    "print('-'*10+\" INT \"+'-'*10)\n",
    "int_ = 25  \n",
    "print('The memory address of int before updating: ', id(int_))  \n",
    "  \n",
    "# Modifying an int object by giving a new value to it  \n",
    "int_ = 35  \n",
    "print('The memory address of int after updating: ', id(int_))  \n",
    "\n",
    "#FLoat\n",
    "print('-'*10+\" Float \"+'-'*10)\n",
    "float_ = float(34.5)  \n",
    "print('The memory address of float before updating: ', id(float_))  \n",
    "  \n",
    "# Modifying the float object by giving a new value to it  \n",
    "float_ = float(32.5)  \n",
    "print('The memory address of float after updating: ', id(float_))  \n",
    "\n",
    "\n",
    "#Changed Memory Address Means these objects are immutable"
   ]
  },
  {
   "cell_type": "markdown",
   "metadata": {},
   "source": [
    "### Q.9. Write a code to create the given structure using only for loop."
   ]
  },
  {
   "cell_type": "raw",
   "metadata": {},
   "source": [
    "\n",
    "* \n",
    "*** \n",
    "***** \n",
    "******* \n",
    "********* \n"
   ]
  },
  {
   "cell_type": "code",
   "execution_count": 30,
   "metadata": {},
   "outputs": [
    {
     "name": "stdout",
     "output_type": "stream",
     "text": [
      "*\n",
      "***\n",
      "*****\n",
      "*******\n",
      "*********\n"
     ]
    }
   ],
   "source": [
    "#Code\n",
    "\n",
    "for i in range(1,10,2):\n",
    "    print('*'*i)"
   ]
  },
  {
   "cell_type": "markdown",
   "metadata": {},
   "source": [
    "### Q.10. Write a code to create the given structure using while loop."
   ]
  },
  {
   "cell_type": "raw",
   "metadata": {},
   "source": [
    "\n",
    "|||||||||\n",
    "|||||||\n",
    "|||||\n",
    "|||\n",
    "|"
   ]
  },
  {
   "cell_type": "code",
   "execution_count": 31,
   "metadata": {},
   "outputs": [
    {
     "name": "stdout",
     "output_type": "stream",
     "text": [
      "|||||||||\n",
      "|||||||\n",
      "|||||\n",
      "|||\n",
      "|\n"
     ]
    }
   ],
   "source": [
    "#Code\n",
    "i=9\n",
    "while i>0:\n",
    "    print('|'*i)\n",
    "    i-=2"
   ]
  }
 ],
 "metadata": {
  "kernelspec": {
   "display_name": "Python 3 (ipykernel)",
   "language": "python",
   "name": "python3"
  },
  "language_info": {
   "codemirror_mode": {
    "name": "ipython",
    "version": 3
   },
   "file_extension": ".py",
   "mimetype": "text/x-python",
   "name": "python",
   "nbconvert_exporter": "python",
   "pygments_lexer": "ipython3",
   "version": "3.10.6"
  }
 },
 "nbformat": 4,
 "nbformat_minor": 4
}
