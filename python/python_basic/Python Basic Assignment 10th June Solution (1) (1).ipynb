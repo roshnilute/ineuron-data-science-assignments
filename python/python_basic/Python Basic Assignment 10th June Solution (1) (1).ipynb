{
 "cells": [
  {
   "cell_type": "markdown",
   "metadata": {},
   "source": [
    "# Python Basic Assignment  Solution"
   ]
  },
  {
   "cell_type": "markdown",
   "metadata": {},
   "source": [
    "# 10th June 2023"
   ]
  },
  {
   "cell_type": "markdown",
   "metadata": {},
   "source": [
    "# Submitted By :  *Roshni Lute* "
   ]
  },
  {
   "cell_type": "markdown",
   "metadata": {},
   "source": [
    "### 1. In Python, what is the difference between a built-in function and a user-defined function? Provide an example of each.\n"
   ]
  },
  {
   "cell_type": "markdown",
   "metadata": {},
   "source": [
    "**Ans** \n",
    "\n",
    "Built-in Function :- They are predefined functions which can be used anytime as per user requirements ex len(),type()\n",
    "\n",
    "User-defined Function :-  User-defined functions are created with the `def` keyword followed by a function name of your choosing."
   ]
  },
  {
   "cell_type": "code",
   "execution_count": 21,
   "metadata": {},
   "outputs": [
    {
     "name": "stdout",
     "output_type": "stream",
     "text": [
      "150\n",
      "<class 'int'>\n"
     ]
    }
   ],
   "source": [
    "# Built-in Function : sum and type is used as an example\n",
    "a = [10, 20, 30, 40, 50]\n",
    "Sum = sum(a)\n",
    "print(Sum)\n",
    "print(type(Sum))"
   ]
  },
  {
   "cell_type": "code",
   "execution_count": 22,
   "metadata": {},
   "outputs": [
    {
     "name": "stdout",
     "output_type": "stream",
     "text": [
      "150\n"
     ]
    }
   ],
   "source": [
    "# User Defined Function : sum function is used as an example\n",
    "def sum_new(age, n=0):\n",
    "    for i in age:\n",
    "        n += i\n",
    "    print(n)\n",
    "sum_new([10, 20, 30, 40,50])"
   ]
  },
  {
   "cell_type": "markdown",
   "metadata": {},
   "source": [
    "### 2. How can you pass arguments to a function in Python? Explain the difference between positional arguments and keyword arguments.\n"
   ]
  },
  {
   "cell_type": "markdown",
   "metadata": {},
   "source": [
    "**Ans**\n",
    "\n",
    " Arguments in python are specified after the function name, inside the parentheses. We can add as many arguments as we want, we just have to separate them with a comma. Python functions can contain two types of arguments: \n",
    "\n",
    "`Positional Arguments` and `Keyword Arguments`\n",
    "\n",
    "Positional arguments must be included in the correct order. \n",
    "Keyword arguments are included with a keyword and equals sign.\n",
    "\n"
   ]
  },
  {
   "cell_type": "code",
   "execution_count": 23,
   "metadata": {},
   "outputs": [
    {
     "name": "stdout",
     "output_type": "stream",
     "text": [
      "Hi, I am Prince\n",
      "My age is  20\n",
      "Hi, I am Prince\n",
      "My age is  20\n"
     ]
    }
   ],
   "source": [
    "#EXAMPLE Keyword Argument\n",
    "\n",
    "def nameAge(name, age):\n",
    "    print(\"Hi, I am\", name)\n",
    "    print(\"My age is \", age)\n",
    "\n",
    "nameAge(name=\"Prince\", age=20)\n",
    "\n",
    "nameAge(age=20, name=\"Prince\")\n",
    "\n",
    "\n",
    "# Output Does not change beacause of arguments"
   ]
  },
  {
   "cell_type": "code",
   "execution_count": 24,
   "metadata": {},
   "outputs": [
    {
     "name": "stdout",
     "output_type": "stream",
     "text": [
      "Case-1:\n",
      "Hi, I am Prince\n",
      "My age is  20\n",
      "\n",
      "Case-2:\n",
      "Hi, I am 20\n",
      "My age is  Prince\n"
     ]
    }
   ],
   "source": [
    "#EXAMPLE Positional Argument\n",
    "\n",
    "def nameAge(name, age):\n",
    "    print(\"Hi, I am\", name)\n",
    "    print(\"My age is \", age)\n",
    "\n",
    "# we will get correct output because argument is given in order\n",
    "print(\"Case-1:\")\n",
    "nameAge(\"Prince\", 20)\n",
    "# We will get incorrect output because argument is not in order\n",
    "print(\"\\nCase-2:\")\n",
    "nameAge(20, \"Prince\")\n"
   ]
  },
  {
   "cell_type": "markdown",
   "metadata": {},
   "source": [
    "### 3. What is the purpose of the return statement in a function? Can a function have multiple return statements? Explain with an example.\n"
   ]
  },
  {
   "cell_type": "markdown",
   "metadata": {},
   "source": [
    "**Ans**\n",
    "\n",
    "  In Python programming language, return statement is used to return the values from the function. We can use the return statement in a function only. A return statement ends the processing of the current function and returns control to the caller of the function. It simply returns the values as output whereas print() function simply print the value.\n",
    "\n",
    "   Yes, a function can have more than one return statement, but only ever run one based on a condition."
   ]
  },
  {
   "cell_type": "code",
   "execution_count": 25,
   "metadata": {},
   "outputs": [
    {
     "data": {
      "text/plain": [
       "44"
      ]
     },
     "execution_count": 25,
     "metadata": {},
     "output_type": "execute_result"
    }
   ],
   "source": [
    "# return value\n",
    "def addvalue(a, b):\n",
    "    return a + b\n",
    "addvalue(10, 34)\n",
    "\n",
    "\n"
   ]
  },
  {
   "cell_type": "code",
   "execution_count": 26,
   "metadata": {},
   "outputs": [
    {
     "data": {
      "text/plain": [
       "'even'"
      ]
     },
     "execution_count": 26,
     "metadata": {},
     "output_type": "execute_result"
    }
   ],
   "source": [
    "# multiple return statement\n",
    "def even_or_odd(n):\n",
    "    if n % 2 == 0:\n",
    "        return (\"even\")\n",
    "    else:\n",
    "        return (\"odd\")\n",
    "even_or_odd(6)"
   ]
  },
  {
   "cell_type": "markdown",
   "metadata": {},
   "source": [
    "### 4. What are lambda functions in Python? How are they different from regular functions? Provide an example where a lambda function can be useful.\n"
   ]
  },
  {
   "cell_type": "markdown",
   "metadata": {},
   "source": [
    "**Ans**\n",
    "\n",
    "Python Lambda Functions are anonymous functions which means that the function can be defined without a name in program. As def keyword is used to define a normal function in Python. Similarly, the lambda keyword is used to define an anonymous function in Python. \n",
    "\n",
    "Lambda functions can have any number of arguments but only one expression, \n",
    "**which is evaluated and returned implicitly.\n",
    "  Lambda functions are syntactically restricted to a single expression.\n",
    "  Using lambda function can sometime reduce the readability of code.**\n"
   ]
  },
  {
   "cell_type": "code",
   "execution_count": 27,
   "metadata": {},
   "outputs": [
    {
     "name": "stdout",
     "output_type": "stream",
     "text": [
      "8\n"
     ]
    }
   ],
   "source": [
    "#Example\n",
    "add = lambda x, y: x + y\n",
    "print(add(5, 3))  # Output: 8\n"
   ]
  },
  {
   "cell_type": "markdown",
   "metadata": {},
   "source": [
    "### 5. How does the concept of \"scope\" apply to functions in Python? Explain the difference between local scope and global scope.\n"
   ]
  },
  {
   "cell_type": "markdown",
   "metadata": {},
   "source": [
    "**Ans**\n",
    "\n",
    "When a variable is created inside a function it belongs to the local scope of that function, and can only be used inside that function.\n",
    " \n",
    " | Local Scope | Gloabl Scope |\n",
    " | --- | --- |\n",
    " | when a varible is created inside a function it's local variable with local scope | when a varible is created outside a function it's global variable with global scope |\n",
    " | They are only limited to the function created when function starts and lost when function ends | They are carried out for the whole program it starts its execution when the program starts and ends when program ends. |\n",
    " | a local scoped variable can be accessed only inside a function | a gloabl scoped variable can be accessed throughout the code |\n",
    " | It doesn’t offers Data Sharing | Offers Data Sharing |\n",
    " | Parameter passing is necessary | Parameter passing is not necessary |"
   ]
  },
  {
   "cell_type": "markdown",
   "metadata": {},
   "source": [
    "### 6. How can you use the \"return\" statement in a Python function to return multiple values?\n"
   ]
  },
  {
   "cell_type": "markdown",
   "metadata": {},
   "source": [
    "**Ans**\n"
   ]
  },
  {
   "cell_type": "code",
   "execution_count": 28,
   "metadata": {},
   "outputs": [
    {
     "data": {
      "text/plain": [
       "(2, 3, 5)"
      ]
     },
     "execution_count": 28,
     "metadata": {},
     "output_type": "execute_result"
    }
   ],
   "source": [
    "def add(a,b):\n",
    "    return(a,b,a+b)\n",
    "\n",
    "add(2,3)"
   ]
  },
  {
   "cell_type": "markdown",
   "metadata": {},
   "source": [
    "### 7. What is the difference between the \"pass by value\" and \"pass by reference\" concepts when it comes to function arguments in Python?\n"
   ]
  },
  {
   "cell_type": "markdown",
   "metadata": {},
   "source": [
    "**Ans**\n",
    "\n",
    "| pass by value | pass by reference |\n",
    "|---|---|\n",
    "|Pass by value means that a copy of the actual parameter’s value | Pass by reference means to pass the reference of an argument in the calling function to the corresponding formal parameter |\n",
    "| Value is made in memory |  Copy of the address of the actual parameter is made in memory |\n",
    "| If the callee modifies the parameter value, the effect is not visible to the caller. |  The caller and the callee use the same variable for the parameter. If the callee modifies the parameter variable, the effect is visible to the caller’s variable.|"
   ]
  },
  {
   "cell_type": "code",
   "execution_count": 29,
   "metadata": {},
   "outputs": [
    {
     "name": "stdout",
     "output_type": "stream",
     "text": [
      "45\n",
      "13\n"
     ]
    }
   ],
   "source": [
    "#pass by value\n",
    "#We are passing the value of x in the function and outside the function. So, the value of the x changes for the function but after function it's same as assigned\n",
    "def pass_by_val(x):\n",
    "    x = 45\n",
    "    print(x)\n",
    "    return\n",
    "x = 13\n",
    "pass_by_val(x)\n",
    "print(x)"
   ]
  },
  {
   "cell_type": "code",
   "execution_count": 30,
   "metadata": {},
   "outputs": [
    {
     "name": "stdout",
     "output_type": "stream",
     "text": [
      "[12, 2, 3, 4]\n",
      "[12, 2, 3, 4]\n"
     ]
    }
   ],
   "source": [
    "#pass by reference \n",
    "#when the list is passed in this function we actually pass the list inside and that gets modified in the function and then shows the same values when printed again\n",
    "a = [1, 2, 3, 4]\n",
    "def pass_by_ref(x):\n",
    "    x[0] = 12\n",
    "    print(x)\n",
    "    return\n",
    "pass_by_ref(a)\n",
    "print(a)"
   ]
  },
  {
   "cell_type": "markdown",
   "metadata": {},
   "source": [
    "### 8. Create a function that can intake integer or decimal value and do following operations:\n",
    "`a. Logarithmic function (log x)\n",
    " b. Exponential function (exp(x))\n",
    " c. Power function with base 2 (2x)\n",
    " d. Square root`\n"
   ]
  },
  {
   "cell_type": "code",
   "execution_count": 32,
   "metadata": {},
   "outputs": [
    {
     "name": "stdout",
     "output_type": "stream",
     "text": [
      "Enter Number for evaluation : 6\n",
      "Logarithmic function (log x) value here is :  1.791759469228055\n",
      "Exponential function (exp(x)) value here is :  403.4287934927351\n",
      "Power function with base 2(2^x) value here is :  128\n",
      "Square root value here is :  2.449489742783178\n"
     ]
    }
   ],
   "source": [
    "\n",
    "import math\n",
    "\n",
    "def func(x):\n",
    "    print(\"Logarithmic function (log x) value here is : \", math.log(x))\n",
    "    print(\"Exponential function (exp(x)) value here is : \", math.exp(x))\n",
    "    print(\"Power function with base 2(2^x) value here is : \", 2*2**x)\n",
    "    print(\"Square root value here is : \", math.sqrt(x))\n",
    "    \n",
    "func(int(input(\"Enter Number for evaluation : \")))"
   ]
  },
  {
   "cell_type": "markdown",
   "metadata": {},
   "source": [
    "### 9. Create a function that takes a full name as an argument and returns first name and last name."
   ]
  },
  {
   "cell_type": "code",
   "execution_count": 33,
   "metadata": {},
   "outputs": [
    {
     "name": "stdout",
     "output_type": "stream",
     "text": [
      "Enter Full Name : Himanshu Dixit\n",
      " First Name =  Himanshu \n",
      " Last Name =  Dixit\n"
     ]
    }
   ],
   "source": [
    "\n",
    "def name(n):\n",
    "    a = n.split()\n",
    "    print(\" First Name = \",a[0],'\\n',\"Last Name = \",a[-1])\n",
    "name(input(\"Enter Full Name : \"))"
   ]
  },
  {
   "cell_type": "code",
   "execution_count": null,
   "metadata": {},
   "outputs": [],
   "source": []
  }
 ],
 "metadata": {
  "kernelspec": {
   "display_name": "Python 3 (ipykernel)",
   "language": "python",
   "name": "python3"
  },
  "language_info": {
   "codemirror_mode": {
    "name": "ipython",
    "version": 3
   },
   "file_extension": ".py",
   "mimetype": "text/x-python",
   "name": "python",
   "nbconvert_exporter": "python",
   "pygments_lexer": "ipython3",
   "version": "3.10.6"
  }
 },
 "nbformat": 4,
 "nbformat_minor": 4
}
