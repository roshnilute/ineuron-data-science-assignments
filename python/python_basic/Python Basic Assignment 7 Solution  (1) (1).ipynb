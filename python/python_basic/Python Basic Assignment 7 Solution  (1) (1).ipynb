{
 "cells": [
  {
   "cell_type": "markdown",
   "metadata": {},
   "source": [
    "# Python Basic Assignment 7 Solution"
   ]
  },
  {
   "cell_type": "markdown",
   "metadata": {},
   "source": [
    "# Submitted By :  *Roshni Lute* "
   ]
  },
  {
   "cell_type": "markdown",
   "metadata": {},
   "source": [
    "### Q.1. Create two int type variables, apply addition, subtraction, division and multiplications and store the results in variables. Then print the data in the following format by calling thevariables:\n",
    "`First variable is __ & second variable is __.\n",
    "Addition: __ + __ = __\n",
    "Subtraction: __ - __ = __\n",
    "Multiplication: __ * __ = __\n",
    "Division: __ / __ = __`\n"
   ]
  },
  {
   "cell_type": "code",
   "execution_count": 9,
   "metadata": {},
   "outputs": [
    {
     "name": "stdout",
     "output_type": "stream",
     "text": [
      "First variable is  10  & second variable is  20\n",
      "Addition:  10 + 20  =  30\n",
      "Subtraction:  20 - 10  =  10\n",
      "Multiplication:  10 * 20  =  200\n",
      "Division:  20 / 10  =  2.0\n"
     ]
    }
   ],
   "source": [
    "# Code\n",
    "a=10\n",
    "b=20\n",
    "add = a+b\n",
    "sub = b-a\n",
    "mul = a*b\n",
    "div = b/a\n",
    "print(\"First variable is \",a,\" & second variable is \",b)\n",
    "print(\"Addition: \", a ,\"+\", b ,\" = \",add)\n",
    "print(\"Subtraction: \", b ,\"-\", a ,\" = \",sub)\n",
    "print(\"Multiplication: \", a ,\"*\", b ,\" = \",mul)\n",
    "print(\"Division: \", b ,\"/\", a ,\" = \",div)\n",
    "\n"
   ]
  },
  {
   "cell_type": "markdown",
   "metadata": {},
   "source": [
    "### Q.2. What is the difference between the following operators:\n",
    "`(i) ‘/’ & ‘//’\n",
    "(ii) ‘**’ & ‘^’`\n",
    "\n",
    "**Ans** \n",
    "**i**\n",
    "    `/` the slash symbol is to calculate the `divison`. \n",
    "    but double slash is used for **//** `floor division` this means rounding the result down to the nearest whole number.\n",
    "**ii**\n",
    "\n",
    "`**` is Exponential operator it raises left operand to the power of right operand whereas\n",
    "`^` is a bit-wise XOR operator which performs binary representation of the operands.\n"
   ]
  },
  {
   "cell_type": "code",
   "execution_count": 10,
   "metadata": {},
   "outputs": [
    {
     "name": "stdout",
     "output_type": "stream",
     "text": [
      "Using / we get  7.5\n",
      "Using // we get rounded value 7\n",
      "Using ** we get  32\n",
      "Using ^ we get  7\n"
     ]
    }
   ],
   "source": [
    "#Example 1\n",
    "\n",
    "x=15\n",
    "y=2\n",
    "\n",
    "first = x/y\n",
    "second = x//y\n",
    "\n",
    "print(\"Using / we get \",first)\n",
    "print(\"Using // we get rounded value\",second)\n",
    "\n",
    "\n",
    "#Example 2\n",
    "\n",
    "a = 2\n",
    "b = 5\n",
    "expo=a**b\n",
    "xor = a^b\n",
    "print(\"Using ** we get \",expo)\n",
    "print(\"Using ^ we get \",xor)"
   ]
  },
  {
   "cell_type": "markdown",
   "metadata": {},
   "source": [
    "### Q.3. List the logical operators.\n",
    "\n",
    "**Ans** logical Operators are `And, Or, Not`.\n"
   ]
  },
  {
   "cell_type": "markdown",
   "metadata": {},
   "source": [
    "### Q.4. Explain right shift operator and left shift operator with examples.\n",
    "\n",
    "Bitwise right shift: Shifts the bits of the number to the right and fills 0 on voids left( fills 1 in the case of a negative number) as a result. Similar effect as of dividing the number with some power of two.\n",
    "Example: \n",
    "\n",
    "Example 1:\n",
    "a = 10 = 0000 1010 (Binary)\n",
    "a >> 1 = 0000 0101 = 5\n",
    "\n",
    "Bitwise left shift: Shifts the bits of the number to the left and fills 0 on voids right as a result. Similar effect as of multiplying the number with some power of two.\n",
    "Example: \n",
    "\n",
    "Example 1:\n",
    "a = 5 = 0000 0101 (Binary)\n",
    "a << 1 = 0000 1010 = 10\n",
    "a << 2 = 0001 0100 = 20 \n"
   ]
  },
  {
   "cell_type": "markdown",
   "metadata": {},
   "source": [
    "### Q.5. Create a list containing int type data of length 15. Then write a code to check if 10 is present in the list or not.\n"
   ]
  },
  {
   "cell_type": "code",
   "execution_count": 13,
   "metadata": {},
   "outputs": [
    {
     "name": "stdout",
     "output_type": "stream",
     "text": [
      "Length of the list =  15 \n",
      "Data type of list <class 'list'>\n",
      "10  Is Present in the list\n"
     ]
    }
   ],
   "source": [
    "# python code to Check if element exists in list or not\n",
    "\n",
    "lst=[ 1,2,7,9,10,22,34,45,56,67, 6, 3, 5, 3, 4 ]\n",
    "print(\"Length of the list = \",len(lst),\"\\n\" +\"Data type of list\",type(lst))\n",
    "i=10\n",
    "# if element present then return\n",
    "# exist otherwise not exist\n",
    "if i in lst:\n",
    "    print(i,\" is Present in the list\")\n",
    "else:\n",
    "    print(\"Absent\")\n",
    "\n",
    "\n",
    "\n"
   ]
  },
  {
   "cell_type": "code",
   "execution_count": null,
   "metadata": {},
   "outputs": [],
   "source": []
  }
 ],
 "metadata": {
  "kernelspec": {
   "display_name": "Python 3 (ipykernel)",
   "language": "python",
   "name": "python3"
  },
  "language_info": {
   "codemirror_mode": {
    "name": "ipython",
    "version": 3
   },
   "file_extension": ".py",
   "mimetype": "text/x-python",
   "name": "python",
   "nbconvert_exporter": "python",
   "pygments_lexer": "ipython3",
   "version": "3.10.6"
  }
 },
 "nbformat": 4,
 "nbformat_minor": 4
}
