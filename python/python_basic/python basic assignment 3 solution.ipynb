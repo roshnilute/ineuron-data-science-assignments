{
 "cells": [
  {
   "cell_type": "raw",
   "id": "927d3fc7-8970-4ad9-b0e2-517742dca585",
   "metadata": {},
   "source": [
    "Python Basic Assignment 3 Solution"
   ]
  },
  {
   "cell_type": "code",
   "execution_count": null,
   "id": "1c23f755-f68a-4670-af97-f5a344e0103e",
   "metadata": {},
   "outputs": [],
   "source": [
    "Submitted By : Roshni Lute"
   ]
  },
  {
   "cell_type": "raw",
   "id": "2368bd43-f776-4ea0-a74a-e01b4a27d9e8",
   "metadata": {},
   "source": [
    "1.Why are functions advantageous to have in your programs?\n",
    "Ans: Functions reduce the need for duplicate code. This makes programs shorter, easier to read, and easier to update. \n",
    "The main advantage of functions is code Reusability."
   ]
  },
  {
   "cell_type": "raw",
   "id": "2d20ac0b-ae36-4ab2-a373-475486d209f0",
   "metadata": {},
   "source": [
    "2. When does the code in a function run: when it's specified or when it's called?\n",
    "Ans: The code in a function executes when the function is called, not when the function is specified."
   ]
  },
  {
   "cell_type": "code",
   "execution_count": null,
   "id": "d7450578-398a-4cf7-8c8a-63956daf98a2",
   "metadata": {},
   "outputs": [],
   "source": [
    "3. What statement creates a function?\n",
    "Ans: The def statement defines a function\n",
    "Syntax of Function:\n",
    "def function_name(parameters):     \"\"\"doc string\"\"\"               -----function body-----     -----function body-----     return value"
   ]
  },
  {
   "cell_type": "raw",
   "id": "fdb0ce25-910c-4746-8bb1-4f7ffb043af7",
   "metadata": {},
   "source": [
    "4. What is the difference between a function and a function call?\n",
    "Ans: A function is procedure to achieve a particular result. while function call is using this function to achive that task. \n",
    "Using a function to do a particular task any point in program is called as function call."
   ]
  },
  {
   "cell_type": "raw",
   "id": "b49099f3-0b41-4351-ad82-090b07daabd4",
   "metadata": {},
   "source": [
    "5. How many global scopes are there in a Python program? How many local scopes?\n",
    "Ans: There is one global scope, and a local scope is created whenever a function is called."
   ]
  },
  {
   "cell_type": "raw",
   "id": "e3e81abb-555f-49b3-9f96-08f20986dcdd",
   "metadata": {},
   "source": [
    "6. What happens to variables in a local scope when the function call returns?\n",
    "Ans: When a function returns, the local scope is destroyed, and all the variables in it are forgotten."
   ]
  },
  {
   "cell_type": "raw",
   "id": "32390e2a-54c1-466a-9937-3968f176eddb",
   "metadata": {},
   "source": [
    "7. What is the concept of a return value? Is it possible to have a return value in an expression?\n",
    "Ans: A return value is the value that a function call evaluates to. Like any value, a return value can be used as part of an expression."
   ]
  },
  {
   "cell_type": "raw",
   "id": "1534a41e-b583-424b-bd7d-ab9ea4eeaece",
   "metadata": {},
   "source": [
    "8. If a function does not have a return statement, what is the return value of a call to that function?\n",
    "Ans: If there is no return statement for a function, its return value is None."
   ]
  },
  {
   "cell_type": "raw",
   "id": "bc26c6f4-267c-437d-9f4f-e20dfe71c7b8",
   "metadata": {},
   "source": [
    "9. How do you make a function variable refer to the global variable?\n",
    "Ans: A global statement will force a variable in a function to refer to the global variable. \n",
    "If you want to refer to a global variable in a function, you can use the global keyword to declare which variables are global."
   ]
  },
  {
   "cell_type": "raw",
   "id": "4866ebba-8f5f-4ec5-a5af-2813dc162461",
   "metadata": {},
   "source": [
    "10. What is the data type of None?\n",
    "Ans: The data type of None is NoneType."
   ]
  },
  {
   "cell_type": "raw",
   "id": "e37791c8-39c0-4563-b66e-b783d1abf7a7",
   "metadata": {},
   "source": [
    "11. What does the sentence import areallyourpetsnamederic do?\n",
    "Ans: That import statement imports a module named areallyourpetsnamederic."
   ]
  },
  {
   "cell_type": "raw",
   "id": "bcdaa523-15eb-489c-a157-b5e8d421fb1e",
   "metadata": {},
   "source": [
    "12. If you had a bacon() feature in a spam module, what would you call it after importing spam?\n",
    "Ans: This function can be called with spam.bacon()."
   ]
  },
  {
   "cell_type": "raw",
   "id": "2ceafb30-f69a-4ab3-ac54-65e73506ce2e",
   "metadata": {},
   "source": [
    "13. What can you do to save a programme from crashing if it encounters an error?\n",
    "Ans: Place the line of code that might cause an error in a try clause and use except block to handle the error."
   ]
  },
  {
   "cell_type": "raw",
   "id": "5a554cc6-1763-4cae-881f-94a002b7b0e3",
   "metadata": {},
   "source": [
    "14. What is the purpose of the try clause? What is the purpose of the except clause?\n",
    "ANS:The code that could potentially cause an error goes in the try clause. \n",
    "The code that executes if an error happens goes in the except clause.\n",
    "\n",
    "\n"
   ]
  }
 ],
 "metadata": {
  "kernelspec": {
   "display_name": "Python 3 (ipykernel)",
   "language": "python",
   "name": "python3"
  },
  "language_info": {
   "codemirror_mode": {
    "name": "ipython",
    "version": 3
   },
   "file_extension": ".py",
   "mimetype": "text/x-python",
   "name": "python",
   "nbconvert_exporter": "python",
   "pygments_lexer": "ipython3",
   "version": "3.10.6"
  }
 },
 "nbformat": 4,
 "nbformat_minor": 5
}
